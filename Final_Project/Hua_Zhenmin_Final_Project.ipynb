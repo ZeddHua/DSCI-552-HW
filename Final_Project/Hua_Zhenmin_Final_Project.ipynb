{
 "cells": [
  {
   "cell_type": "markdown",
   "id": "reflected-consumer",
   "metadata": {},
   "source": [
    "Name: **Zhenmin Hua**  \n",
    "USC_ID: **5905057247**  \n",
    "Github username: **Zeddhua2077**"
   ]
  },
  {
   "cell_type": "markdown",
   "id": "anticipated-significance",
   "metadata": {},
   "source": [
    "# 552 final project Text Classification"
   ]
  },
  {
   "cell_type": "code",
   "execution_count": 1,
   "id": "raised-speaker",
   "metadata": {
    "execution": {
     "iopub.execute_input": "2022-05-11T17:06:23.395234Z",
     "iopub.status.busy": "2022-05-11T17:06:23.394236Z",
     "iopub.status.idle": "2022-05-11T17:06:29.139702Z",
     "shell.execute_reply": "2022-05-11T17:06:29.139702Z",
     "shell.execute_reply.started": "2022-05-11T17:06:23.395234Z"
    }
   },
   "outputs": [],
   "source": [
    "import os\n",
    "import re, string\n",
    "import numpy as np\n",
    "import pandas as pd\n",
    "import seaborn as sns\n",
    "import matplotlib.pyplot as plt\n",
    "import tensorflow as tf"
   ]
  },
  {
   "cell_type": "code",
   "execution_count": 6,
   "id": "harmful-luther",
   "metadata": {
    "execution": {
     "iopub.execute_input": "2022-05-09T18:47:42.478594Z",
     "iopub.status.busy": "2022-05-09T18:47:42.477596Z",
     "iopub.status.idle": "2022-05-09T18:47:42.484578Z",
     "shell.execute_reply": "2022-05-09T18:47:42.484578Z",
     "shell.execute_reply.started": "2022-05-09T18:47:42.478594Z"
    }
   },
   "outputs": [
    {
     "name": "stdout",
     "output_type": "stream",
     "text": [
      "[[6, 2], [3, 1], [7, 4], [8, 1], [9], [10], [5, 4], [11, 3], [5, 1], [12, 13, 2, 14]]\n",
      "[[ 0  0  0  0  6  2]\n",
      " [ 0  0  0  0  3  1]\n",
      " [ 0  0  0  0  7  4]\n",
      " [ 0  0  0  0  8  1]\n",
      " [ 0  0  0  0  0  9]\n",
      " [ 0  0  0  0  0 10]\n",
      " [ 0  0  0  0  5  4]\n",
      " [ 0  0  0  0 11  3]\n",
      " [ 0  0  0  0  5  1]\n",
      " [ 0  0 12 13  2 14]]\n"
     ]
    }
   ],
   "source": [
    "# keras tokenizer example\n",
    "from keras.preprocessing.text import Tokenizer\n",
    "from keras.preprocessing.sequence import pad_sequences\n",
    "docs = ['Well done!',\n",
    "        'Good work',\n",
    "        'Great effort',\n",
    "        'nice work',\n",
    "        'Excellent!',\n",
    "        'Weak',\n",
    "        'Poor effort!',\n",
    "        'not good',\n",
    "        'poor work',\n",
    "        'Could have done better.']\n",
    "labels = [1,1,1,1,1,0,0,0,0,0]\n",
    "t = Tokenizer()\n",
    "t.fit_on_texts(docs)\n",
    "seq = t.texts_to_sequences(docs)\n",
    "padded_seq = pad_sequences(seq, 6)\n",
    "print(seq)\n",
    "print(padded_seq)"
   ]
  },
  {
   "cell_type": "code",
   "execution_count": 7,
   "id": "increasing-classification",
   "metadata": {
    "execution": {
     "iopub.execute_input": "2022-05-09T18:47:46.487422Z",
     "iopub.status.busy": "2022-05-09T18:47:46.487422Z",
     "iopub.status.idle": "2022-05-09T18:47:46.494404Z",
     "shell.execute_reply": "2022-05-09T18:47:46.494404Z",
     "shell.execute_reply.started": "2022-05-09T18:47:46.487422Z"
    }
   },
   "outputs": [
    {
     "data": {
      "text/plain": [
       "10"
      ]
     },
     "execution_count": 7,
     "metadata": {},
     "output_type": "execute_result"
    }
   ],
   "source": [
    "t.document_count"
   ]
  },
  {
   "cell_type": "code",
   "execution_count": 8,
   "id": "asian-chinese",
   "metadata": {
    "execution": {
     "iopub.execute_input": "2022-05-09T18:47:46.943717Z",
     "iopub.status.busy": "2022-05-09T18:47:46.943717Z",
     "iopub.status.idle": "2022-05-09T18:47:46.946723Z",
     "shell.execute_reply": "2022-05-09T18:47:46.946723Z",
     "shell.execute_reply.started": "2022-05-09T18:47:46.943717Z"
    }
   },
   "outputs": [
    {
     "data": {
      "text/plain": [
       "14"
      ]
     },
     "execution_count": 8,
     "metadata": {},
     "output_type": "execute_result"
    }
   ],
   "source": [
    "len(t.word_index)"
   ]
  },
  {
   "cell_type": "code",
   "execution_count": 36,
   "id": "ecological-folder",
   "metadata": {
    "execution": {
     "iopub.execute_input": "2022-05-07T22:55:30.614114Z",
     "iopub.status.busy": "2022-05-07T22:55:30.613115Z",
     "iopub.status.idle": "2022-05-07T22:55:31.387965Z",
     "shell.execute_reply": "2022-05-07T22:55:31.387965Z",
     "shell.execute_reply.started": "2022-05-07T22:55:30.614114Z"
    }
   },
   "outputs": [
    {
     "name": "stdout",
     "output_type": "stream",
     "text": [
      "Epoch 1/2\n",
      "8/8 [==============================] - 1s 2ms/step - loss: 0.7137 - accuracy: 0.4970\n",
      "Epoch 2/2\n",
      "8/8 [==============================] - 0s 2ms/step - loss: 0.7068 - accuracy: 0.4910\n",
      "1/1 [==============================] - 0s 113ms/step - loss: 0.6839 - accuracy: 0.5600\n"
     ]
    }
   ],
   "source": [
    "# keras example\n",
    "import numpy as np\n",
    "from keras.models import Sequential\n",
    "from keras.layers import Dense, Dropout\n",
    "\n",
    "x_train = np.random.random((1000, 20))\n",
    "y_train = np.random.randint(2, size=(1000, 1))\n",
    "x_test = np.random.random((100, 20))\n",
    "y_test = np.random.randint(2, size=(100, 1))\n",
    "\n",
    "model = Sequential()\n",
    "model.add(Dense(64, input_dim=20, activation='relu'))\n",
    "model.add(Dropout(0.5))\n",
    "model.add(Dense(64, activation='relu'))\n",
    "model.add(Dropout(0.5))\n",
    "model.add(Dense(1, activation='sigmoid'))\n",
    "model.compile(loss='binary_crossentropy',\n",
    "              optimizer='rmsprop',\n",
    "              metrics=['accuracy'])\n",
    "model.fit(x_train, y_train,\n",
    "          epochs=2,\n",
    "          batch_size=128)\n",
    "score = model.evaluate(x_test, y_test, batch_size=128)"
   ]
  },
  {
   "cell_type": "markdown",
   "id": "apart-audio",
   "metadata": {},
   "source": [
    "## Data Exploration and Pre-processing"
   ]
  },
  {
   "cell_type": "code",
   "execution_count": 3,
   "id": "intimate-output",
   "metadata": {
    "execution": {
     "iopub.execute_input": "2022-05-11T17:06:54.778034Z",
     "iopub.status.busy": "2022-05-11T17:06:54.778034Z",
     "iopub.status.idle": "2022-05-11T17:06:55.422124Z",
     "shell.execute_reply": "2022-05-11T17:06:55.422124Z",
     "shell.execute_reply.started": "2022-05-11T17:06:54.778034Z"
    }
   },
   "outputs": [
    {
     "data": {
      "text/html": [
       "<div>\n",
       "<style scoped>\n",
       "    .dataframe tbody tr th:only-of-type {\n",
       "        vertical-align: middle;\n",
       "    }\n",
       "\n",
       "    .dataframe tbody tr th {\n",
       "        vertical-align: top;\n",
       "    }\n",
       "\n",
       "    .dataframe thead th {\n",
       "        text-align: right;\n",
       "    }\n",
       "</style>\n",
       "<table border=\"1\" class=\"dataframe\">\n",
       "  <thead>\n",
       "    <tr style=\"text-align: right;\">\n",
       "      <th></th>\n",
       "      <th>text</th>\n",
       "      <th>sentiment</th>\n",
       "    </tr>\n",
       "  </thead>\n",
       "  <tbody>\n",
       "    <tr>\n",
       "      <th>0</th>\n",
       "      <td>films adapted from comic books have had plenty...</td>\n",
       "      <td>1</td>\n",
       "    </tr>\n",
       "    <tr>\n",
       "      <th>1</th>\n",
       "      <td>every now and then a movie comes along from a ...</td>\n",
       "      <td>1</td>\n",
       "    </tr>\n",
       "    <tr>\n",
       "      <th>2</th>\n",
       "      <td>you've got mail works alot better than it dese...</td>\n",
       "      <td>1</td>\n",
       "    </tr>\n",
       "    <tr>\n",
       "      <th>3</th>\n",
       "      <td>\" jaws \" is a rare film that grabs your atten...</td>\n",
       "      <td>1</td>\n",
       "    </tr>\n",
       "    <tr>\n",
       "      <th>4</th>\n",
       "      <td>moviemaking is a lot like being the general ma...</td>\n",
       "      <td>1</td>\n",
       "    </tr>\n",
       "    <tr>\n",
       "      <th>...</th>\n",
       "      <td>...</td>\n",
       "      <td>...</td>\n",
       "    </tr>\n",
       "    <tr>\n",
       "      <th>1995</th>\n",
       "      <td>if anything , \" stigmata \" should be taken as ...</td>\n",
       "      <td>-1</td>\n",
       "    </tr>\n",
       "    <tr>\n",
       "      <th>1996</th>\n",
       "      <td>john boorman's \" zardoz \" is a goofy cinematic...</td>\n",
       "      <td>-1</td>\n",
       "    </tr>\n",
       "    <tr>\n",
       "      <th>1997</th>\n",
       "      <td>the kids in the hall are an acquired taste . \\...</td>\n",
       "      <td>-1</td>\n",
       "    </tr>\n",
       "    <tr>\n",
       "      <th>1998</th>\n",
       "      <td>there was a time when john carpenter was a gre...</td>\n",
       "      <td>-1</td>\n",
       "    </tr>\n",
       "    <tr>\n",
       "      <th>1999</th>\n",
       "      <td>two party guys bob their heads to haddaway's d...</td>\n",
       "      <td>-1</td>\n",
       "    </tr>\n",
       "  </tbody>\n",
       "</table>\n",
       "<p>2000 rows × 2 columns</p>\n",
       "</div>"
      ],
      "text/plain": [
       "                                                   text sentiment\n",
       "0     films adapted from comic books have had plenty...         1\n",
       "1     every now and then a movie comes along from a ...         1\n",
       "2     you've got mail works alot better than it dese...         1\n",
       "3      \" jaws \" is a rare film that grabs your atten...         1\n",
       "4     moviemaking is a lot like being the general ma...         1\n",
       "...                                                 ...       ...\n",
       "1995  if anything , \" stigmata \" should be taken as ...        -1\n",
       "1996  john boorman's \" zardoz \" is a goofy cinematic...        -1\n",
       "1997  the kids in the hall are an acquired taste . \\...        -1\n",
       "1998  there was a time when john carpenter was a gre...        -1\n",
       "1999  two party guys bob their heads to haddaway's d...        -1\n",
       "\n",
       "[2000 rows x 2 columns]"
      ]
     },
     "execution_count": 3,
     "metadata": {},
     "output_type": "execute_result"
    }
   ],
   "source": [
    "# i. binary encoding for the sentiments\n",
    "path_pos = '../Data/pos'\n",
    "files_pos = os.listdir(path_pos)\n",
    "pos_lst = []\n",
    "for file in files_pos:\n",
    "    with open(path_pos + '/' + file, 'r') as f:\n",
    "        data = f.read()\n",
    "    pos_lst.append([data])\n",
    "\n",
    "path_neg = '../Data/neg'\n",
    "files_neg = os.listdir(path_neg)\n",
    "neg_lst = []\n",
    "for file in files_neg:\n",
    "    with open(path_neg + '/' + file, 'r') as f:\n",
    "        data = f.read()\n",
    "    neg_lst.append([data])\n",
    "\n",
    "df = pd.DataFrame(np.hstack((np.array(pos_lst + neg_lst).reshape(-1,1), np.array([1]*1000 + [-1]*1000).reshape(-1,1))))\n",
    "df.columns = ['text', 'sentiment']\n",
    "df"
   ]
  },
  {
   "cell_type": "code",
   "execution_count": 10,
   "id": "transsexual-family",
   "metadata": {
    "execution": {
     "iopub.execute_input": "2022-05-09T18:48:42.646870Z",
     "iopub.status.busy": "2022-05-09T18:48:42.645872Z",
     "iopub.status.idle": "2022-05-09T18:48:42.825522Z",
     "shell.execute_reply": "2022-05-09T18:48:42.825522Z",
     "shell.execute_reply.started": "2022-05-09T18:48:42.646870Z"
    }
   },
   "outputs": [
    {
     "data": {
      "text/html": [
       "<div>\n",
       "<style scoped>\n",
       "    .dataframe tbody tr th:only-of-type {\n",
       "        vertical-align: middle;\n",
       "    }\n",
       "\n",
       "    .dataframe tbody tr th {\n",
       "        vertical-align: top;\n",
       "    }\n",
       "\n",
       "    .dataframe thead th {\n",
       "        text-align: right;\n",
       "    }\n",
       "</style>\n",
       "<table border=\"1\" class=\"dataframe\">\n",
       "  <thead>\n",
       "    <tr style=\"text-align: right;\">\n",
       "      <th></th>\n",
       "      <th>text</th>\n",
       "      <th>sentiment</th>\n",
       "    </tr>\n",
       "  </thead>\n",
       "  <tbody>\n",
       "    <tr>\n",
       "      <th>0</th>\n",
       "      <td>films adapted from comic books have had plenty...</td>\n",
       "      <td>1</td>\n",
       "    </tr>\n",
       "    <tr>\n",
       "      <th>1</th>\n",
       "      <td>every now and then a movie comes along from a ...</td>\n",
       "      <td>1</td>\n",
       "    </tr>\n",
       "    <tr>\n",
       "      <th>2</th>\n",
       "      <td>youve got mail works alot better than it deser...</td>\n",
       "      <td>1</td>\n",
       "    </tr>\n",
       "    <tr>\n",
       "      <th>3</th>\n",
       "      <td>jaws  is a rare film that grabs your attenti...</td>\n",
       "      <td>1</td>\n",
       "    </tr>\n",
       "    <tr>\n",
       "      <th>4</th>\n",
       "      <td>moviemaking is a lot like being the general ma...</td>\n",
       "      <td>1</td>\n",
       "    </tr>\n",
       "    <tr>\n",
       "      <th>...</th>\n",
       "      <td>...</td>\n",
       "      <td>...</td>\n",
       "    </tr>\n",
       "    <tr>\n",
       "      <th>1995</th>\n",
       "      <td>if anything   stigmata  should be taken as a w...</td>\n",
       "      <td>-1</td>\n",
       "    </tr>\n",
       "    <tr>\n",
       "      <th>1996</th>\n",
       "      <td>john boormans  zardoz  is a goofy cinematic de...</td>\n",
       "      <td>-1</td>\n",
       "    </tr>\n",
       "    <tr>\n",
       "      <th>1997</th>\n",
       "      <td>the kids in the hall are an acquired taste  it...</td>\n",
       "      <td>-1</td>\n",
       "    </tr>\n",
       "    <tr>\n",
       "      <th>1998</th>\n",
       "      <td>there was a time when john carpenter was a gre...</td>\n",
       "      <td>-1</td>\n",
       "    </tr>\n",
       "    <tr>\n",
       "      <th>1999</th>\n",
       "      <td>two party guys bob their heads to haddaways da...</td>\n",
       "      <td>-1</td>\n",
       "    </tr>\n",
       "  </tbody>\n",
       "</table>\n",
       "<p>2000 rows × 2 columns</p>\n",
       "</div>"
      ],
      "text/plain": [
       "                                                   text sentiment\n",
       "0     films adapted from comic books have had plenty...         1\n",
       "1     every now and then a movie comes along from a ...         1\n",
       "2     youve got mail works alot better than it deser...         1\n",
       "3       jaws  is a rare film that grabs your attenti...         1\n",
       "4     moviemaking is a lot like being the general ma...         1\n",
       "...                                                 ...       ...\n",
       "1995  if anything   stigmata  should be taken as a w...        -1\n",
       "1996  john boormans  zardoz  is a goofy cinematic de...        -1\n",
       "1997  the kids in the hall are an acquired taste  it...        -1\n",
       "1998  there was a time when john carpenter was a gre...        -1\n",
       "1999  two party guys bob their heads to haddaways da...        -1\n",
       "\n",
       "[2000 rows x 2 columns]"
      ]
     },
     "execution_count": 10,
     "metadata": {},
     "output_type": "execute_result"
    }
   ],
   "source": [
    "# ii. Remove the punctuation and numbers\n",
    "def remove(x):\n",
    "    x = x.replace('\\n', '')\n",
    "    x = re.sub('[{}]'.format(string.punctuation), \"\", x) # remove punctuation\n",
    "    x = re.sub('[\\d]', '', x) # remove numbers\n",
    "    return x\n",
    "\n",
    "df.text = df.text.apply(remove)\n",
    "df"
   ]
  },
  {
   "cell_type": "code",
   "execution_count": 11,
   "id": "chemical-fabric",
   "metadata": {
    "execution": {
     "iopub.execute_input": "2022-05-09T18:48:51.353497Z",
     "iopub.status.busy": "2022-05-09T18:48:51.353497Z",
     "iopub.status.idle": "2022-05-09T18:48:51.363471Z",
     "shell.execute_reply": "2022-05-09T18:48:51.363471Z",
     "shell.execute_reply.started": "2022-05-09T18:48:51.353497Z"
    }
   },
   "outputs": [
    {
     "data": {
      "text/html": [
       "<div>\n",
       "<style scoped>\n",
       "    .dataframe tbody tr th:only-of-type {\n",
       "        vertical-align: middle;\n",
       "    }\n",
       "\n",
       "    .dataframe tbody tr th {\n",
       "        vertical-align: top;\n",
       "    }\n",
       "\n",
       "    .dataframe thead th {\n",
       "        text-align: right;\n",
       "    }\n",
       "</style>\n",
       "<table border=\"1\" class=\"dataframe\">\n",
       "  <thead>\n",
       "    <tr style=\"text-align: right;\">\n",
       "      <th></th>\n",
       "      <th>text</th>\n",
       "      <th>sentiment</th>\n",
       "    </tr>\n",
       "  </thead>\n",
       "  <tbody>\n",
       "    <tr>\n",
       "      <th>0</th>\n",
       "      <td>films adapted from comic books have had plenty...</td>\n",
       "      <td>1</td>\n",
       "    </tr>\n",
       "    <tr>\n",
       "      <th>1</th>\n",
       "      <td>every now and then a movie comes along from a ...</td>\n",
       "      <td>1</td>\n",
       "    </tr>\n",
       "    <tr>\n",
       "      <th>2</th>\n",
       "      <td>youve got mail works alot better than it deser...</td>\n",
       "      <td>1</td>\n",
       "    </tr>\n",
       "    <tr>\n",
       "      <th>3</th>\n",
       "      <td>jaws  is a rare film that grabs your attenti...</td>\n",
       "      <td>1</td>\n",
       "    </tr>\n",
       "    <tr>\n",
       "      <th>4</th>\n",
       "      <td>moviemaking is a lot like being the general ma...</td>\n",
       "      <td>1</td>\n",
       "    </tr>\n",
       "    <tr>\n",
       "      <th>...</th>\n",
       "      <td>...</td>\n",
       "      <td>...</td>\n",
       "    </tr>\n",
       "    <tr>\n",
       "      <th>1695</th>\n",
       "      <td>house on haunted hill    starring taye diggs  ...</td>\n",
       "      <td>-1</td>\n",
       "    </tr>\n",
       "    <tr>\n",
       "      <th>1696</th>\n",
       "      <td>fit for a ghouls night out  fat girl stands ca...</td>\n",
       "      <td>-1</td>\n",
       "    </tr>\n",
       "    <tr>\n",
       "      <th>1697</th>\n",
       "      <td>marie couldnt talk   paulie  the parrot star...</td>\n",
       "      <td>-1</td>\n",
       "    </tr>\n",
       "    <tr>\n",
       "      <th>1698</th>\n",
       "      <td>well  heres a distasteful  thoroughly amateuri...</td>\n",
       "      <td>-1</td>\n",
       "    </tr>\n",
       "    <tr>\n",
       "      <th>1699</th>\n",
       "      <td>okay  i just dont know why  but i seem to be g...</td>\n",
       "      <td>-1</td>\n",
       "    </tr>\n",
       "  </tbody>\n",
       "</table>\n",
       "<p>1400 rows × 2 columns</p>\n",
       "</div>"
      ],
      "text/plain": [
       "                                                   text sentiment\n",
       "0     films adapted from comic books have had plenty...         1\n",
       "1     every now and then a movie comes along from a ...         1\n",
       "2     youve got mail works alot better than it deser...         1\n",
       "3       jaws  is a rare film that grabs your attenti...         1\n",
       "4     moviemaking is a lot like being the general ma...         1\n",
       "...                                                 ...       ...\n",
       "1695  house on haunted hill    starring taye diggs  ...        -1\n",
       "1696  fit for a ghouls night out  fat girl stands ca...        -1\n",
       "1697    marie couldnt talk   paulie  the parrot star...        -1\n",
       "1698  well  heres a distasteful  thoroughly amateuri...        -1\n",
       "1699  okay  i just dont know why  but i seem to be g...        -1\n",
       "\n",
       "[1400 rows x 2 columns]"
      ]
     },
     "execution_count": 11,
     "metadata": {},
     "output_type": "execute_result"
    }
   ],
   "source": [
    "# iii.  Use text files 0-699 in each class for training and 700-999 for testing\n",
    "train_set = df.iloc[:700, :].append(df.iloc[1000:1700, :])\n",
    "test_set = df.iloc[700:1000, :].append(df.iloc[1700:2000, :])\n",
    "train_set"
   ]
  },
  {
   "cell_type": "code",
   "execution_count": 12,
   "id": "sticky-helicopter",
   "metadata": {
    "execution": {
     "iopub.execute_input": "2022-05-09T18:49:11.425874Z",
     "iopub.status.busy": "2022-05-09T18:49:11.425874Z",
     "iopub.status.idle": "2022-05-09T18:49:11.603885Z",
     "shell.execute_reply": "2022-05-09T18:49:11.603885Z",
     "shell.execute_reply.started": "2022-05-09T18:49:11.425874Z"
    }
   },
   "outputs": [
    {
     "data": {
      "text/plain": [
       "46831"
      ]
     },
     "execution_count": 12,
     "metadata": {},
     "output_type": "execute_result"
    }
   ],
   "source": [
    "# iv. Count the number of unique words\n",
    "whole_text = ' '.join(df.text)\n",
    "lst = whole_text.split(' ')\n",
    "count = len(set(lst)) - 1\n",
    "count"
   ]
  },
  {
   "cell_type": "code",
   "execution_count": 13,
   "id": "under-youth",
   "metadata": {
    "execution": {
     "iopub.execute_input": "2022-05-09T18:50:09.523404Z",
     "iopub.status.busy": "2022-05-09T18:50:09.523404Z",
     "iopub.status.idle": "2022-05-09T18:50:09.532380Z",
     "shell.execute_reply": "2022-05-09T18:50:09.532380Z",
     "shell.execute_reply.started": "2022-05-09T18:50:09.523404Z"
    }
   },
   "outputs": [
    {
     "data": {
      "text/plain": [
       "count     1400.000000\n",
       "mean      3710.082143\n",
       "std       1646.834010\n",
       "min         88.000000\n",
       "25%       2597.750000\n",
       "50%       3467.500000\n",
       "75%       4448.250000\n",
       "max      14443.000000\n",
       "Name: length, dtype: float64"
      ]
     },
     "execution_count": 13,
     "metadata": {},
     "output_type": "execute_result"
    }
   ],
   "source": [
    "# v. average review length and the standard deviation\n",
    "train_set['length'] = train_set.text.apply(len)\n",
    "train_set.length.describe()"
   ]
  },
  {
   "cell_type": "code",
   "execution_count": 15,
   "id": "continued-professional",
   "metadata": {
    "execution": {
     "iopub.execute_input": "2022-05-09T18:50:31.769360Z",
     "iopub.status.busy": "2022-05-09T18:50:31.769360Z",
     "iopub.status.idle": "2022-05-09T18:50:31.976827Z",
     "shell.execute_reply": "2022-05-09T18:50:31.976827Z",
     "shell.execute_reply.started": "2022-05-09T18:50:31.769360Z"
    }
   },
   "outputs": [
    {
     "data": {
      "image/png": "[encoded data removed]",
      "text/plain": [
       "<Figure size 432x288 with 1 Axes>"
      ]
     },
     "metadata": {
      "needs_background": "light"
     },
     "output_type": "display_data"
    }
   ],
   "source": [
    "# vi. Plot the histogram of review lengths\n",
    "plt.hist(train_set.length, bins=40, edgecolor='black')\n",
    "plt.xlabel('review_length')\n",
    "plt.ylabel('frequency')\n",
    "plt.title('Histogram')\n",
    "plt.show()"
   ]
  },
  {
   "cell_type": "code",
   "execution_count": 16,
   "id": "unknown-harmony",
   "metadata": {
    "execution": {
     "iopub.execute_input": "2022-05-09T18:53:36.015379Z",
     "iopub.status.busy": "2022-05-09T18:53:36.015379Z",
     "iopub.status.idle": "2022-05-09T18:53:36.039318Z",
     "shell.execute_reply": "2022-05-09T18:53:36.038321Z",
     "shell.execute_reply.started": "2022-05-09T18:53:36.015379Z"
    }
   },
   "outputs": [
    {
     "name": "stdout",
     "output_type": "stream",
     "text": [
      "L: 4221.6\n"
     ]
    },
    {
     "data": {
      "text/html": [
       "<div>\n",
       "<style scoped>\n",
       "    .dataframe tbody tr th:only-of-type {\n",
       "        vertical-align: middle;\n",
       "    }\n",
       "\n",
       "    .dataframe tbody tr th {\n",
       "        vertical-align: top;\n",
       "    }\n",
       "\n",
       "    .dataframe thead th {\n",
       "        text-align: right;\n",
       "    }\n",
       "</style>\n",
       "<table border=\"1\" class=\"dataframe\">\n",
       "  <thead>\n",
       "    <tr style=\"text-align: right;\">\n",
       "      <th></th>\n",
       "      <th>text</th>\n",
       "      <th>sentiment</th>\n",
       "      <th>length</th>\n",
       "    </tr>\n",
       "  </thead>\n",
       "  <tbody>\n",
       "    <tr>\n",
       "      <th>0</th>\n",
       "      <td>films adapted from comic books have had plenty...</td>\n",
       "      <td>1</td>\n",
       "      <td>4035</td>\n",
       "    </tr>\n",
       "    <tr>\n",
       "      <th>1</th>\n",
       "      <td>every now and then a movie comes along from a ...</td>\n",
       "      <td>1</td>\n",
       "      <td>3885</td>\n",
       "    </tr>\n",
       "    <tr>\n",
       "      <th>2</th>\n",
       "      <td>youve got mail works alot better than it deser...</td>\n",
       "      <td>1</td>\n",
       "      <td>2338</td>\n",
       "    </tr>\n",
       "    <tr>\n",
       "      <th>3</th>\n",
       "      <td>moviemaking is a lot like being the general ma...</td>\n",
       "      <td>1</td>\n",
       "      <td>3735</td>\n",
       "    </tr>\n",
       "    <tr>\n",
       "      <th>4</th>\n",
       "      <td>one of my colleagues was surprised when i told...</td>\n",
       "      <td>1</td>\n",
       "      <td>3519</td>\n",
       "    </tr>\n",
       "    <tr>\n",
       "      <th>...</th>\n",
       "      <td>...</td>\n",
       "      <td>...</td>\n",
       "      <td>...</td>\n",
       "    </tr>\n",
       "    <tr>\n",
       "      <th>975</th>\n",
       "      <td>if youve seen the trailers or commercials  its...</td>\n",
       "      <td>-1</td>\n",
       "      <td>1527</td>\n",
       "    </tr>\n",
       "    <tr>\n",
       "      <th>976</th>\n",
       "      <td>house on haunted hill    starring taye diggs  ...</td>\n",
       "      <td>-1</td>\n",
       "      <td>3556</td>\n",
       "    </tr>\n",
       "    <tr>\n",
       "      <th>977</th>\n",
       "      <td>marie couldnt talk   paulie  the parrot star...</td>\n",
       "      <td>-1</td>\n",
       "      <td>3599</td>\n",
       "    </tr>\n",
       "    <tr>\n",
       "      <th>978</th>\n",
       "      <td>well  heres a distasteful  thoroughly amateuri...</td>\n",
       "      <td>-1</td>\n",
       "      <td>3684</td>\n",
       "    </tr>\n",
       "    <tr>\n",
       "      <th>979</th>\n",
       "      <td>okay  i just dont know why  but i seem to be g...</td>\n",
       "      <td>-1</td>\n",
       "      <td>3159</td>\n",
       "    </tr>\n",
       "  </tbody>\n",
       "</table>\n",
       "<p>980 rows × 3 columns</p>\n",
       "</div>"
      ],
      "text/plain": [
       "                                                  text sentiment  length\n",
       "0    films adapted from comic books have had plenty...         1    4035\n",
       "1    every now and then a movie comes along from a ...         1    3885\n",
       "2    youve got mail works alot better than it deser...         1    2338\n",
       "3    moviemaking is a lot like being the general ma...         1    3735\n",
       "4    one of my colleagues was surprised when i told...         1    3519\n",
       "..                                                 ...       ...     ...\n",
       "975  if youve seen the trailers or commercials  its...        -1    1527\n",
       "976  house on haunted hill    starring taye diggs  ...        -1    3556\n",
       "977    marie couldnt talk   paulie  the parrot star...        -1    3599\n",
       "978  well  heres a distasteful  thoroughly amateuri...        -1    3684\n",
       "979  okay  i just dont know why  but i seem to be g...        -1    3159\n",
       "\n",
       "[980 rows x 3 columns]"
      ]
     },
     "execution_count": 16,
     "metadata": {},
     "output_type": "execute_result"
    }
   ],
   "source": [
    "# viii. Select\n",
    "L = np.percentile(train_set.length, 70)\n",
    "train_set = train_set[train_set.length <= L].reset_index(drop=True)\n",
    "print('L:', L)\n",
    "train_set"
   ]
  },
  {
   "cell_type": "code",
   "execution_count": null,
   "id": "iraqi-occurrence",
   "metadata": {},
   "outputs": [],
   "source": [
    "# vii. represent each text (= data point)\n",
    "from keras.preprocessing.text import Tokenizer\n",
    "\n",
    "corpus = [i for i in train_set.text]\n",
    "t = Tokenizer()  # Tokenizer(num_words = 5001)\n",
    "t.fit_on_texts(corpus)\n",
    "seq = t.texts_to_sequences(corpus)\n",
    "print(seq)"
   ]
  },
  {
   "cell_type": "code",
   "execution_count": 18,
   "id": "ideal-utility",
   "metadata": {
    "execution": {
     "iopub.execute_input": "2022-05-09T18:55:35.739050Z",
     "iopub.status.busy": "2022-05-09T18:55:35.739050Z",
     "iopub.status.idle": "2022-05-09T18:55:35.771962Z",
     "shell.execute_reply": "2022-05-09T18:55:35.771962Z",
     "shell.execute_reply.started": "2022-05-09T18:55:35.739050Z"
    }
   },
   "outputs": [
    {
     "data": {
      "text/plain": [
       "array([[    0,     0,     0, ...,     3,  1027,  1477],\n",
       "       [    0,     0,     0, ...,    10,     2,  1557],\n",
       "       [    0,     0,     0, ...,     1,   663,  5606],\n",
       "       ...,\n",
       "       [    0,     0,     0, ..., 29599,    31,  2758],\n",
       "       [    0,     0,     0, ...,   222,     7,  4183],\n",
       "       [    0,     0,     0, ...,     9,    26,   200]])"
      ]
     },
     "execution_count": 18,
     "metadata": {},
     "output_type": "execute_result"
    }
   ],
   "source": [
    "# ix. Truncate and zero_padding\n",
    "from keras.preprocessing.sequence import pad_sequences\n",
    "\n",
    "padded_seq = pad_sequences(seq, maxlen=int(L))\n",
    "padded_seq"
   ]
  },
  {
   "cell_type": "markdown",
   "id": "german-manitoba",
   "metadata": {},
   "source": [
    "## Word Embeddings  \n",
    "In c.i and footnote 5, 500 must be replaced with L."
   ]
  },
  {
   "cell_type": "code",
   "execution_count": 19,
   "id": "ready-vanilla",
   "metadata": {
    "execution": {
     "iopub.execute_input": "2022-05-09T18:56:03.242440Z",
     "iopub.status.busy": "2022-05-09T18:56:03.241442Z",
     "iopub.status.idle": "2022-05-09T18:56:03.523100Z",
     "shell.execute_reply": "2022-05-09T18:56:03.523100Z",
     "shell.execute_reply.started": "2022-05-09T18:56:03.242440Z"
    }
   },
   "outputs": [
    {
     "name": "stdout",
     "output_type": "stream",
     "text": [
      "Model: \"sequential\"\n",
      "_________________________________________________________________\n",
      " Layer (type)                Output Shape              Param #   \n",
      "=================================================================\n",
      " embedding (Embedding)       (None, 4221, 32)          160000    \n",
      "                                                                 \n",
      " flatten (Flatten)           (None, 135072)            0         \n",
      "                                                                 \n",
      "=================================================================\n",
      "Total params: 160,000\n",
      "Trainable params: 160,000\n",
      "Non-trainable params: 0\n",
      "_________________________________________________________________\n"
     ]
    }
   ],
   "source": [
    "from keras.models import Sequential\n",
    "from keras.layers import Flatten, Dense, Embedding\n",
    "\n",
    "model = Sequential()\n",
    "model.add(Embedding(5000, 32, input_length=int(L))) # max_features = len(t.word_index)+1\n",
    "model.add(Flatten())\n",
    "model.summary()"
   ]
  },
  {
   "cell_type": "markdown",
   "id": "positive-hostel",
   "metadata": {},
   "source": [
    "## Multi-Layer Perceptron"
   ]
  },
  {
   "cell_type": "code",
   "execution_count": 21,
   "id": "passive-happiness",
   "metadata": {
    "execution": {
     "iopub.execute_input": "2022-05-09T19:01:10.792273Z",
     "iopub.status.busy": "2022-05-09T19:01:10.792273Z",
     "iopub.status.idle": "2022-05-09T19:01:19.104019Z",
     "shell.execute_reply": "2022-05-09T19:01:19.104019Z",
     "shell.execute_reply.started": "2022-05-09T19:01:10.792273Z"
    }
   },
   "outputs": [
    {
     "name": "stdout",
     "output_type": "stream",
     "text": [
      "Epoch 1/2\n",
      "98/98 [==============================] - 4s 38ms/step - loss: 0.7806 - accuracy: 0.5327\n",
      "Epoch 2/2\n",
      "98/98 [==============================] - 4s 38ms/step - loss: 0.6908 - accuracy: 0.5398\n"
     ]
    }
   ],
   "source": [
    "from keras.models import Sequential\n",
    "from keras.layers import Flatten, Dense, Embedding, Dropout\n",
    "\n",
    "# train\n",
    "x_train = padded_seq\n",
    "y_train = train_set.sentiment\n",
    "y_train = y_train.astype(int)\n",
    "y_train = y_train.map({-1:0, 1:1}) # turn negative label from -1 to 0, cuz there's a sigmoid func(0,1) in the end\n",
    "\n",
    "# test\n",
    "test_texts = [i for i in test_set.text]\n",
    "test_seq = t.texts_to_sequences(test_texts)\n",
    "x_test = pad_sequences(test_seq, maxlen=int(L))\n",
    "y_test = test_set.sentiment\n",
    "y_test = y_test.astype(int)\n",
    "y_test = y_test.map({-1:0, 1:1})\n",
    "\n",
    "# model\n",
    "model = Sequential()\n",
    "model.add(Embedding(len(t.word_index)+1, 32, input_length=int(L))) # max_features = len(t.word_index)+1\n",
    "model.add(Flatten())\n",
    "model.add(Dense(50, input_shape=(32*int(L),), activation='relu'))\n",
    "model.add(Dropout(0.2))\n",
    "model.add(Dense(50, activation='relu'))\n",
    "model.add(Dropout(0.5))\n",
    "model.add(Dense(50, activation='relu'))\n",
    "model.add(Dropout(0.5))\n",
    "model.add(Dense(1, activation='sigmoid')) # output layer\n",
    "# model.summary()\n",
    "\n",
    "# fit\n",
    "opt = tf.keras.optimizers.Adam(learning_rate=0.001) # default eta = 0.001\n",
    "model.compile(optimizer=opt, loss='binary_crossentropy', metrics=['accuracy'])\n",
    "history = model.fit(x_train, y_train, epochs=2, batch_size=10)"
   ]
  },
  {
   "cell_type": "code",
   "execution_count": 22,
   "id": "false-wrapping",
   "metadata": {
    "execution": {
     "iopub.execute_input": "2022-05-09T19:01:22.735721Z",
     "iopub.status.busy": "2022-05-09T19:01:22.735721Z",
     "iopub.status.idle": "2022-05-09T19:01:23.717938Z",
     "shell.execute_reply": "2022-05-09T19:01:23.717938Z",
     "shell.execute_reply.started": "2022-05-09T19:01:22.735721Z"
    }
   },
   "outputs": [
    {
     "name": "stdout",
     "output_type": "stream",
     "text": [
      "60/60 [==============================] - 0s 5ms/step - loss: 0.6947 - accuracy: 0.5000\n",
      "test: [0.6946516633033752, 0.5]\n",
      "98/98 [==============================] - 0s 5ms/step - loss: 0.6903 - accuracy: 0.5398\n",
      "train: [0.6902850866317749, 0.5397959351539612]\n"
     ]
    }
   ],
   "source": [
    "# evaluate\n",
    "score = model.evaluate(x_test, y_test, batch_size=10)\n",
    "print('test:', score)\n",
    "score_train = model.evaluate(x_train, y_train, batch_size=10)\n",
    "print('train:', score_train)"
   ]
  },
  {
   "cell_type": "markdown",
   "id": "above-medium",
   "metadata": {},
   "source": [
    "## One-Dimensional Convolutional Neural Network"
   ]
  },
  {
   "cell_type": "code",
   "execution_count": 23,
   "id": "periodic-crime",
   "metadata": {
    "execution": {
     "iopub.execute_input": "2022-05-09T19:04:08.374312Z",
     "iopub.status.busy": "2022-05-09T19:04:08.374312Z",
     "iopub.status.idle": "2022-05-09T19:04:52.537083Z",
     "shell.execute_reply": "2022-05-09T19:04:52.537083Z",
     "shell.execute_reply.started": "2022-05-09T19:04:08.374312Z"
    }
   },
   "outputs": [
    {
     "name": "stdout",
     "output_type": "stream",
     "text": [
      "Epoch 1/10\n",
      "98/98 [==============================] - 5s 42ms/step - loss: 0.7354 - accuracy: 0.5000\n",
      "Epoch 2/10\n",
      "98/98 [==============================] - 4s 44ms/step - loss: 0.7194 - accuracy: 0.4857\n",
      "Epoch 3/10\n",
      "98/98 [==============================] - 4s 43ms/step - loss: 0.6909 - accuracy: 0.5327\n",
      "Epoch 4/10\n",
      "98/98 [==============================] - 4s 41ms/step - loss: 0.6769 - accuracy: 0.5337\n",
      "Epoch 5/10\n",
      "98/98 [==============================] - 4s 44ms/step - loss: 0.5600 - accuracy: 0.6857\n",
      "Epoch 6/10\n",
      "98/98 [==============================] - 4s 46ms/step - loss: 0.4371 - accuracy: 0.8398\n",
      "Epoch 7/10\n",
      "98/98 [==============================] - 4s 45ms/step - loss: 0.3501 - accuracy: 0.8918\n",
      "Epoch 8/10\n",
      "98/98 [==============================] - 4s 45ms/step - loss: 0.3096 - accuracy: 0.8959\n",
      "Epoch 9/10\n",
      "98/98 [==============================] - 5s 46ms/step - loss: 0.2302 - accuracy: 0.9378\n",
      "Epoch 10/10\n",
      "98/98 [==============================] - 5s 47ms/step - loss: 0.1513 - accuracy: 0.9684\n"
     ]
    }
   ],
   "source": [
    "from keras.models import Sequential\n",
    "from keras.layers import Flatten, Dense, Embedding, Dropout, Conv1D, MaxPooling1D\n",
    "\n",
    "# train\n",
    "x_train = padded_seq\n",
    "y_train = train_set.sentiment\n",
    "y_train = y_train.astype(int)\n",
    "y_train = y_train.map({-1:0, 1:1})\n",
    "\n",
    "# test\n",
    "test_texts = [i for i in test_set.text]\n",
    "test_seq = t.texts_to_sequences(test_texts)\n",
    "x_test = pad_sequences(test_seq, maxlen=int(L))\n",
    "y_test = test_set.sentiment\n",
    "y_test = y_test.astype(int)\n",
    "y_test = y_test.map({-1:0, 1:1})\n",
    "\n",
    "# model\n",
    "model = Sequential()\n",
    "model.add(Embedding(len(t.word_index)+1, 32, input_length=int(L))) # max_features = len(t.word_index)+1\n",
    "\n",
    "model.add(Conv1D(filters=32, kernel_size=3))\n",
    "model.add(MaxPooling1D(pool_size=2, strides=2))\n",
    "model.add(Flatten())\n",
    "\n",
    "model.add(Dense(50, input_shape=(32*int(L),), activation='relu'))\n",
    "model.add(Dropout(0.2))\n",
    "model.add(Dense(50, activation='relu'))\n",
    "model.add(Dropout(0.5))\n",
    "model.add(Dense(50, activation='relu'))\n",
    "model.add(Dropout(0.5))\n",
    "model.add(Dense(1, activation='sigmoid')) # output layer\n",
    "# model.summary()\n",
    "\n",
    "# fit\n",
    "model.compile(optimizer='adam', loss='binary_crossentropy', metrics=['accuracy'])\n",
    "history = model.fit(x_train, y_train, epochs=10, batch_size=10)"
   ]
  },
  {
   "cell_type": "code",
   "execution_count": 24,
   "id": "worth-massage",
   "metadata": {
    "execution": {
     "iopub.execute_input": "2022-05-09T19:05:04.102469Z",
     "iopub.status.busy": "2022-05-09T19:05:04.101471Z",
     "iopub.status.idle": "2022-05-09T19:05:05.371098Z",
     "shell.execute_reply": "2022-05-09T19:05:05.371098Z",
     "shell.execute_reply.started": "2022-05-09T19:05:04.102469Z"
    }
   },
   "outputs": [
    {
     "name": "stdout",
     "output_type": "stream",
     "text": [
      "60/60 [==============================] - 1s 7ms/step - loss: 0.6416 - accuracy: 0.7167\n",
      "test: [0.6415811777114868, 0.7166666388511658]\n",
      "98/98 [==============================] - 1s 7ms/step - loss: 0.0536 - accuracy: 1.0000\n",
      "train: [0.05357464402914047, 1.0]\n"
     ]
    }
   ],
   "source": [
    "# evaluate\n",
    "score = model.evaluate(x_test, y_test, batch_size=10)\n",
    "print('test:', score)\n",
    "score_train = model.evaluate(x_train, y_train, batch_size=10)\n",
    "print('train:', score_train)"
   ]
  },
  {
   "cell_type": "code",
   "execution_count": 41,
   "id": "individual-reproduction",
   "metadata": {
    "execution": {
     "iopub.execute_input": "2022-05-08T18:42:26.623718Z",
     "iopub.status.busy": "2022-05-08T18:42:26.623718Z",
     "iopub.status.idle": "2022-05-08T18:42:27.103829Z",
     "shell.execute_reply": "2022-05-08T18:42:27.103829Z",
     "shell.execute_reply.started": "2022-05-08T18:42:26.623718Z"
    }
   },
   "outputs": [
    {
     "data": {
      "text/plain": [
       "600"
      ]
     },
     "execution_count": 41,
     "metadata": {},
     "output_type": "execute_result"
    }
   ],
   "source": [
    "y_pred = model.predict(x_test, batch_size=10)\n",
    "len(y_pred)"
   ]
  },
  {
   "cell_type": "code",
   "execution_count": 49,
   "id": "hawaiian-lebanon",
   "metadata": {
    "execution": {
     "iopub.execute_input": "2022-05-08T18:51:01.859663Z",
     "iopub.status.busy": "2022-05-08T18:51:01.859663Z",
     "iopub.status.idle": "2022-05-08T18:51:01.864648Z",
     "shell.execute_reply": "2022-05-08T18:51:01.864648Z",
     "shell.execute_reply.started": "2022-05-08T18:51:01.859663Z"
    }
   },
   "outputs": [
    {
     "data": {
      "text/plain": [
       "0.116662055"
      ]
     },
     "execution_count": 49,
     "metadata": {},
     "output_type": "execute_result"
    }
   ],
   "source": [
    "y_pred[60][0]"
   ]
  },
  {
   "cell_type": "code",
   "execution_count": 25,
   "id": "authorized-projection",
   "metadata": {
    "execution": {
     "iopub.execute_input": "2022-05-09T19:05:28.916438Z",
     "iopub.status.busy": "2022-05-09T19:05:28.916438Z",
     "iopub.status.idle": "2022-05-09T19:05:28.935388Z",
     "shell.execute_reply": "2022-05-09T19:05:28.934391Z",
     "shell.execute_reply.started": "2022-05-09T19:05:28.916438Z"
    }
   },
   "outputs": [
    {
     "name": "stdout",
     "output_type": "stream",
     "text": [
      "Model: \"sequential_2\"\n",
      "_________________________________________________________________\n",
      " Layer (type)                Output Shape              Param #   \n",
      "=================================================================\n",
      " embedding_2 (Embedding)     (None, 4221, 32)          948096    \n",
      "                                                                 \n",
      " conv1d (Conv1D)             (None, 4219, 32)          3104      \n",
      "                                                                 \n",
      " max_pooling1d (MaxPooling1D  (None, 2109, 32)         0         \n",
      " )                                                               \n",
      "                                                                 \n",
      " flatten_2 (Flatten)         (None, 67488)             0         \n",
      "                                                                 \n",
      " dense_4 (Dense)             (None, 50)                3374450   \n",
      "                                                                 \n",
      " dropout_3 (Dropout)         (None, 50)                0         \n",
      "                                                                 \n",
      " dense_5 (Dense)             (None, 50)                2550      \n",
      "                                                                 \n",
      " dropout_4 (Dropout)         (None, 50)                0         \n",
      "                                                                 \n",
      " dense_6 (Dense)             (None, 50)                2550      \n",
      "                                                                 \n",
      " dropout_5 (Dropout)         (None, 50)                0         \n",
      "                                                                 \n",
      " dense_7 (Dense)             (None, 1)                 51        \n",
      "                                                                 \n",
      "=================================================================\n",
      "Total params: 4,330,801\n",
      "Trainable params: 4,330,801\n",
      "Non-trainable params: 0\n",
      "_________________________________________________________________\n"
     ]
    }
   ],
   "source": [
    "model.summary()"
   ]
  },
  {
   "cell_type": "markdown",
   "id": "peripheral-labor",
   "metadata": {},
   "source": [
    "## Long Short-Term Memory Recurrent Neural Network"
   ]
  },
  {
   "cell_type": "code",
   "execution_count": 26,
   "id": "therapeutic-sociology",
   "metadata": {
    "execution": {
     "iopub.execute_input": "2022-05-09T19:08:55.784850Z",
     "iopub.status.busy": "2022-05-09T19:08:55.784850Z",
     "iopub.status.idle": "2022-05-09T19:33:41.689065Z",
     "shell.execute_reply": "2022-05-09T19:33:41.688100Z",
     "shell.execute_reply.started": "2022-05-09T19:08:55.784850Z"
    }
   },
   "outputs": [
    {
     "name": "stdout",
     "output_type": "stream",
     "text": [
      "Epoch 1/10\n",
      "98/98 [==============================] - 143s 1s/step - loss: 0.6904 - accuracy: 0.5378\n",
      "Epoch 2/10\n",
      "98/98 [==============================] - 146s 1s/step - loss: 0.4950 - accuracy: 0.7786\n",
      "Epoch 3/10\n",
      "98/98 [==============================] - 147s 2s/step - loss: 0.0952 - accuracy: 0.9704\n",
      "Epoch 4/10\n",
      "98/98 [==============================] - 160s 2s/step - loss: 0.0189 - accuracy: 0.9939\n",
      "Epoch 5/10\n",
      "98/98 [==============================] - 154s 2s/step - loss: 0.0361 - accuracy: 0.9867\n",
      "Epoch 6/10\n",
      "98/98 [==============================] - 146s 1s/step - loss: 0.0075 - accuracy: 0.9990\n",
      "Epoch 7/10\n",
      "98/98 [==============================] - 148s 2s/step - loss: 4.6177e-04 - accuracy: 1.0000\n",
      "Epoch 8/10\n",
      "98/98 [==============================] - 147s 1s/step - loss: 2.2557e-04 - accuracy: 1.0000\n",
      "Epoch 9/10\n",
      "98/98 [==============================] - 148s 2s/step - loss: 1.3900e-04 - accuracy: 1.0000\n",
      "Epoch 10/10\n",
      "98/98 [==============================] - 147s 1s/step - loss: 1.0610e-04 - accuracy: 1.0000\n"
     ]
    }
   ],
   "source": [
    "from keras.models import Sequential\n",
    "from keras.layers import Flatten, Dense, Embedding, Dropout, Conv1D, MaxPooling1D, LSTM\n",
    "\n",
    "# train\n",
    "x_train = padded_seq\n",
    "y_train = train_set.sentiment\n",
    "y_train = y_train.astype(int)\n",
    "y_train = y_train.map({-1:0, 1:1})\n",
    "\n",
    "# test\n",
    "test_texts = [i for i in test_set.text]\n",
    "test_seq = t.texts_to_sequences(test_texts)\n",
    "x_test = pad_sequences(test_seq, maxlen=int(L))\n",
    "y_test = test_set.sentiment\n",
    "y_test = y_test.astype(int)\n",
    "y_test = y_test.map({-1:0, 1:1})\n",
    "\n",
    "# model\n",
    "model_lstm = Sequential()\n",
    "model_lstm.add(Embedding(len(t.word_index)+1, 32, input_length=int(L))) # max_features = len(t.word_index)+1\n",
    "model_lstm.add(LSTM(32))\n",
    "model_lstm.add(Dropout(0.2))\n",
    "model_lstm.add(Dense(256, activation='relu'))\n",
    "model_lstm.add(Dropout(0.2))\n",
    "model_lstm.add(Dense(1, activation='sigmoid')) # output layer\n",
    "# model_lstm.summary()\n",
    "\n",
    "# fit\n",
    "model_lstm.compile(optimizer='adam', loss='binary_crossentropy', metrics=['accuracy'])\n",
    "history = model_lstm.fit(x_train, y_train, epochs=10, batch_size=10)"
   ]
  },
  {
   "cell_type": "code",
   "execution_count": 27,
   "id": "guided-liechtenstein",
   "metadata": {
    "execution": {
     "iopub.execute_input": "2022-05-09T19:33:41.690063Z",
     "iopub.status.busy": "2022-05-09T19:33:41.690063Z",
     "iopub.status.idle": "2022-05-09T19:34:06.879834Z",
     "shell.execute_reply": "2022-05-09T19:34:06.879834Z",
     "shell.execute_reply.started": "2022-05-09T19:33:41.690063Z"
    }
   },
   "outputs": [
    {
     "name": "stdout",
     "output_type": "stream",
     "text": [
      "60/60 [==============================] - 10s 151ms/step - loss: 1.5536 - accuracy: 0.7117\n",
      "test: [1.5535694360733032, 0.7116666436195374]\n",
      "98/98 [==============================] - 16s 159ms/step - loss: 5.3048e-05 - accuracy: 1.0000\n",
      "train: [5.304805745254271e-05, 1.0]\n"
     ]
    }
   ],
   "source": [
    "# evaluate\n",
    "score = model_lstm.evaluate(x_test, y_test, batch_size=10)\n",
    "print('test:', score)\n",
    "score_train = model_lstm.evaluate(x_train, y_train, batch_size=10)\n",
    "print('train:', score_train)"
   ]
  },
  {
   "cell_type": "markdown",
   "id": "effective-corporation",
   "metadata": {},
   "source": [
    "I set epochs = 10, and the accuracy on train set is 1.0. So, I think if epochs is set to 50, the model may overfit."
   ]
  }
 ],
 "metadata": {
  "kernelspec": {
   "display_name": "Python 3",
   "language": "python",
   "name": "python3"
  },
  "language_info": {
   "codemirror_mode": {
    "name": "ipython",
    "version": 3
   },
   "file_extension": ".py",
   "mimetype": "text/x-python",
   "name": "python",
   "nbconvert_exporter": "python",
   "pygments_lexer": "ipython3",
   "version": "3.8.8"
  }
 },
 "nbformat": 4,
 "nbformat_minor": 5
}
